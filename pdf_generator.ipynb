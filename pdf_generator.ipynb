{
 "cells": [
  {
   "cell_type": "code",
   "execution_count": 1,
   "metadata": {},
   "outputs": [],
   "source": [
    "# default_exp pdf_generator"
   ]
  },
  {
   "cell_type": "markdown",
   "metadata": {},
   "source": [
    "# pdf_generator\n",
    "\n",
    "> Ce module permet de lire les fichiers reçu et de générer le PDF, à l'aide du module pdf_helper."
   ]
  },
  {
   "cell_type": "code",
   "execution_count": 32,
   "metadata": {},
   "outputs": [],
   "source": [
    "#hide\n",
    "from nbdev.showdoc import *\n",
    "!pip install -q -r requirements.txt\n",
    "# For multiple output per cell\n",
    "from IPython.core.interactiveshell import InteractiveShell\n",
    "InteractiveShell.ast_node_interactivity = \"all\""
   ]
  },
  {
   "cell_type": "code",
   "execution_count": 51,
   "metadata": {},
   "outputs": [],
   "source": [
    "#export\n",
    "import datetime\n",
    "import pandas as pd\n",
    "#from fpdf import FPDF\n",
    "from covid_certificate_generator import pdf_helper\n",
    "import io, sys, os\n",
    "import tempfile\n",
    "import pathlib"
   ]
  },
  {
   "cell_type": "code",
   "execution_count": 34,
   "metadata": {},
   "outputs": [
    {
     "name": "stdout",
     "output_type": "stream",
     "text": [
      "Overwriting data.csv\n"
     ]
    }
   ],
   "source": [
    "%%writefile data.csv\n",
    "NomParent,PrenomParent,NomEnfant,PrenomEnfant,DateNaissance,Moyen\n",
    "NomParent1,PrenomParent1,NomEnfant1,PrenomEnfant1,12/06/2010,pied\n",
    "NomParent2,PrenomParent2,NomEnfant2,PrenomEnfant2,12/04/2011,pied\n",
    "NomParent3,PrenomParent3,NomEnfant3,PrenomEnfant3,12/04/2011,vélo\n",
    "NomParent4,PrenomParent4,NomEnfant4,\"Prenom, Enfant4\",12/04/2011,car"
   ]
  },
  {
   "cell_type": "code",
   "execution_count": 35,
   "metadata": {},
   "outputs": [
    {
     "data": {
      "text/html": [
       "<div>\n",
       "<style scoped>\n",
       "    .dataframe tbody tr th:only-of-type {\n",
       "        vertical-align: middle;\n",
       "    }\n",
       "\n",
       "    .dataframe tbody tr th {\n",
       "        vertical-align: top;\n",
       "    }\n",
       "\n",
       "    .dataframe thead th {\n",
       "        text-align: right;\n",
       "    }\n",
       "</style>\n",
       "<table border=\"1\" class=\"dataframe\">\n",
       "  <thead>\n",
       "    <tr style=\"text-align: right;\">\n",
       "      <th></th>\n",
       "      <th>NomParent</th>\n",
       "      <th>PrenomParent</th>\n",
       "      <th>NomEnfant</th>\n",
       "      <th>PrenomEnfant</th>\n",
       "      <th>DateNaissance</th>\n",
       "      <th>Moyen</th>\n",
       "    </tr>\n",
       "  </thead>\n",
       "  <tbody>\n",
       "    <tr>\n",
       "      <th>0</th>\n",
       "      <td>NomParent1</td>\n",
       "      <td>PrenomParent1</td>\n",
       "      <td>NomEnfant1</td>\n",
       "      <td>PrenomEnfant1</td>\n",
       "      <td>12/06/2010</td>\n",
       "      <td>pied</td>\n",
       "    </tr>\n",
       "    <tr>\n",
       "      <th>1</th>\n",
       "      <td>NomParent2</td>\n",
       "      <td>PrenomParent2</td>\n",
       "      <td>NomEnfant2</td>\n",
       "      <td>PrenomEnfant2</td>\n",
       "      <td>12/04/2011</td>\n",
       "      <td>pied</td>\n",
       "    </tr>\n",
       "    <tr>\n",
       "      <th>2</th>\n",
       "      <td>NomParent3</td>\n",
       "      <td>PrenomParent3</td>\n",
       "      <td>NomEnfant3</td>\n",
       "      <td>PrenomEnfant3</td>\n",
       "      <td>12/04/2011</td>\n",
       "      <td>vélo</td>\n",
       "    </tr>\n",
       "    <tr>\n",
       "      <th>3</th>\n",
       "      <td>NomParent4</td>\n",
       "      <td>PrenomParent4</td>\n",
       "      <td>NomEnfant4</td>\n",
       "      <td>Prenom, Enfant4</td>\n",
       "      <td>12/04/2011</td>\n",
       "      <td>car</td>\n",
       "    </tr>\n",
       "  </tbody>\n",
       "</table>\n",
       "</div>"
      ],
      "text/plain": [
       "    NomParent   PrenomParent   NomEnfant     PrenomEnfant DateNaissance Moyen\n",
       "0  NomParent1  PrenomParent1  NomEnfant1    PrenomEnfant1    12/06/2010  pied\n",
       "1  NomParent2  PrenomParent2  NomEnfant2    PrenomEnfant2    12/04/2011  pied\n",
       "2  NomParent3  PrenomParent3  NomEnfant3    PrenomEnfant3    12/04/2011  vélo\n",
       "3  NomParent4  PrenomParent4  NomEnfant4  Prenom, Enfant4    12/04/2011   car"
      ]
     },
     "execution_count": 35,
     "metadata": {},
     "output_type": "execute_result"
    }
   ],
   "source": [
    "#ignore\n",
    "df = pd.read_csv('data.csv')\n",
    "df"
   ]
  },
  {
   "cell_type": "code",
   "execution_count": 82,
   "metadata": {},
   "outputs": [],
   "source": [
    "#export\n",
    "class PDFGenerator:\n",
    "    config = None # Dict configuration\n",
    "    school = None\n",
    "    school_sign = None\n",
    "    pdf_w=210\n",
    "    pdf_h=297\n",
    "    \n",
    "    def __init__(self, config_file=None):\n",
    "        \"\"\"\n",
    "        Constructor\n",
    "        :param config_file: str, Path to config file\n",
    "        :return:\n",
    "        \"\"\"\n",
    "    def generate_one_attestation(self, prenom_parent, nom_parent, prenom_enfant, nom_enfant, date_naissance, moyen):\n",
    "        self.pdf.add_page()\n",
    "        #pdf.lines()\n",
    "        self.pdf.titles()\n",
    "        self.pdf.texte_parent(prenom_parent, nom_parent)\n",
    "        self.pdf.texte_enfant(prenom_enfant, nom_enfant,date_naissance, moyen)\n",
    "        self.pdf.texte_etablissement(\n",
    "            self.school['school_name'], self.school['school_adress'], self.school_sign, self.school['city'])\n",
    "\n",
    "    def generate(self, row):\n",
    "        self.generate_one_attestation(row.PrenomParent, row.NomParent, row.PrenomEnfant, row.NomEnfant, row.DateNaissance, row.Moyen)\n",
    "\n",
    "        \n",
    "    def get_pdf(self, students_filename, students_data, school_sign, school):\n",
    "#         students_file = io.BytesIO(students_file)\n",
    "        self.school_sign = school_sign\n",
    "        self.school = school\n",
    "        try:\n",
    "            if '.csv' in students_filename:\n",
    "                # Assume that the user uploaded a CSV file\n",
    "                df = pd.read_csv(students_data)\n",
    "                if len(df.columns) == 1: # Is separator , ?\n",
    "                    df = pd.read_csv(io.BytesIO(students_data.getbuffer()), sep=';')\n",
    "                    if len(df.columns) == 1: # Is separator , ?\n",
    "                        df = pd.read_csv(io.BytesIO(students_data.getbuffer()), sep='\\t')\n",
    "            else:\n",
    "                # Assume that the user uploaded an excel file\n",
    "                df = pd.read_excel(students_data) #io.BytesIO(decoded)\n",
    "        except:\n",
    "            error = f'ERREUR à la lecture du fichier {students_filename}: {sys.exc_info()[0]}'\n",
    "            print(error)\n",
    "            raise\n",
    "            \n",
    "        if len(df.columns) < 6:\n",
    "            raise ValueError(\"Format de fichier invalide : pas assez de colonnes !\")\n",
    "        self.pdf = pdf_helper.PDF(orientation='P', unit='mm', format='A4')\n",
    "        self.pdf.set_author('Data For Good France')\n",
    "        _ = df.apply(self.generate, axis=1)\n",
    "\n",
    "    def get_pdf_from_file(self, students_filename, school_sign, school, output_name):\n",
    "        # Read file\n",
    "        with open(students_filename, 'rb') as fh:\n",
    "            students_data = io.BytesIO(fh.read())\n",
    "        self.get_pdf(students_filename, students_data, school_sign, school)\n",
    "        _ = self.pdf.output(output_name,'F')\n",
    "\n",
    "    def get_temp_file(self, ext=None):\n",
    "        tmp_dir = tempfile._get_default_tempdir()\n",
    "        tmp_name = next(tempfile._get_candidate_names())\n",
    "        if ext:\n",
    "            return os.path.join(tmp_dir, tmp_name + ext)\n",
    "        else:\n",
    "            return os.path.join(tmp_dir, tmp_name)\n",
    "    def get_pdf_from_BytesIO(self, students_filename, students_data, school_sign_filename, school_sign_data, school):\n",
    "        school_sign_filename = self.get_temp_file(school_sign_filename)\n",
    "        with open(school_sign_filename, \"wb\") as f:\n",
    "            f.write(school_sign_data.getbuffer())\n",
    "        self.get_pdf(students_filename, students_data, school_sign_filename, school)\n",
    "        output_name = self.get_temp_file('.pdf')\n",
    "        _ = self.pdf.output(output_name,'F')\n",
    "        # Clean temp file for school image\n",
    "        path = pathlib.Path(school_sign_filename)\n",
    "        path.unlink()\n",
    "        return output_name\n",
    "        #return self.pdf.output(dest='I')\n"
   ]
  },
  {
   "cell_type": "code",
   "execution_count": 83,
   "metadata": {},
   "outputs": [
    {
     "name": "stdout",
     "output_type": "stream",
     "text": [
      "/tmp/zltucl7f.pdf\n",
      "CPU times: user 10.5 ms, sys: 1.44 ms, total: 11.9 ms\n",
      "Wall time: 9.71 ms\n"
     ]
    }
   ],
   "source": [
    "%%time\n",
    "school={\n",
    "    'school_name':'Ecole Jean Jaurès',\n",
    "    'school_adress':'rue Jean Jaurès, 42 000 Libreville',\n",
    "    'city':'Libreville'\n",
    "}\n",
    "students_filename = 'data.csv'\n",
    "school_sign_filename = 'cachet.jpg'\n",
    "\n",
    "#decoded = base64.b64decode(students_file)\n",
    "#students_file = io.BytesIO(decoded)\n",
    "\n",
    "\n",
    "with open(students_filename, 'rb') as fh:\n",
    "    students_data = io.BytesIO(fh.read())\n",
    "with open(school_sign_filename, 'rb') as fh:\n",
    "    school_sign_data = io.BytesIO(fh.read())\n",
    "school_pdf = PDFGenerator()\n",
    "res = school_pdf.get_pdf_from_BytesIO(students_filename, students_data, school_sign_filename, school_sign_data, school)\n",
    "type(res)\n",
    "print(res)\n",
    "# with open(\"pdf-bytesio.pdf\", \"wb\") as f:\n",
    "#     f.write(res.encode())"
   ]
  },
  {
   "cell_type": "code",
   "execution_count": 84,
   "metadata": {},
   "outputs": [
    {
     "name": "stdout",
     "output_type": "stream",
     "text": [
      "CPU times: user 6.67 ms, sys: 374 µs, total: 7.04 ms\n",
      "Wall time: 6.24 ms\n"
     ]
    }
   ],
   "source": [
    "%%time\n",
    "\n",
    "students_file = 'data.csv'\n",
    "school_sign = 'cachet.jpg'\n",
    "school_pdf = PDFGenerator()\n",
    "school_pdf.get_pdf_from_file(students_file, school_sign, school,'test.pdf')"
   ]
  },
  {
   "cell_type": "code",
   "execution_count": 85,
   "metadata": {},
   "outputs": [
    {
     "data": {
      "text/plain": [
       "_io.BytesIO"
      ]
     },
     "execution_count": 85,
     "metadata": {},
     "output_type": "execute_result"
    },
    {
     "data": {
      "text/plain": [
       "19824"
      ]
     },
     "execution_count": 85,
     "metadata": {},
     "output_type": "execute_result"
    },
    {
     "data": {
      "text/plain": [
       "19824"
      ]
     },
     "execution_count": 85,
     "metadata": {},
     "output_type": "execute_result"
    },
    {
     "data": {
      "text/html": [
       "<div>\n",
       "<style scoped>\n",
       "    .dataframe tbody tr th:only-of-type {\n",
       "        vertical-align: middle;\n",
       "    }\n",
       "\n",
       "    .dataframe tbody tr th {\n",
       "        vertical-align: top;\n",
       "    }\n",
       "\n",
       "    .dataframe thead th {\n",
       "        text-align: right;\n",
       "    }\n",
       "</style>\n",
       "<table border=\"1\" class=\"dataframe\">\n",
       "  <thead>\n",
       "    <tr style=\"text-align: right;\">\n",
       "      <th></th>\n",
       "      <th>NomParent</th>\n",
       "      <th>PrenomParent</th>\n",
       "      <th>NomEnfant</th>\n",
       "      <th>PrenomEnfant</th>\n",
       "      <th>DateNaissance</th>\n",
       "      <th>Moyen</th>\n",
       "    </tr>\n",
       "  </thead>\n",
       "  <tbody>\n",
       "    <tr>\n",
       "      <th>0</th>\n",
       "      <td>PIERRE</td>\n",
       "      <td>Pierre</td>\n",
       "      <td>PIERRE</td>\n",
       "      <td>Amande</td>\n",
       "      <td>30/09/12</td>\n",
       "      <td>Pied</td>\n",
       "    </tr>\n",
       "    <tr>\n",
       "      <th>1</th>\n",
       "      <td>PIERRET</td>\n",
       "      <td>Pierre</td>\n",
       "      <td>PIERRE</td>\n",
       "      <td>Amande</td>\n",
       "      <td>01/10/12</td>\n",
       "      <td>Pied</td>\n",
       "    </tr>\n",
       "    <tr>\n",
       "      <th>2</th>\n",
       "      <td>PIERRICk</td>\n",
       "      <td>Pierre</td>\n",
       "      <td>PIERRE</td>\n",
       "      <td>Amande</td>\n",
       "      <td>02/10/12</td>\n",
       "      <td>Pied</td>\n",
       "    </tr>\n",
       "    <tr>\n",
       "      <th>3</th>\n",
       "      <td>PIERREYY</td>\n",
       "      <td>Pierre</td>\n",
       "      <td>PIERRE</td>\n",
       "      <td>Amande</td>\n",
       "      <td>03/10/12</td>\n",
       "      <td>Pied</td>\n",
       "    </tr>\n",
       "    <tr>\n",
       "      <th>4</th>\n",
       "      <td>PIERRE 2</td>\n",
       "      <td>Pierre 2</td>\n",
       "      <td>PIERRE 2</td>\n",
       "      <td>Amande 2</td>\n",
       "      <td>04/10/12</td>\n",
       "      <td>Pied</td>\n",
       "    </tr>\n",
       "    <tr>\n",
       "      <th>...</th>\n",
       "      <td>...</td>\n",
       "      <td>...</td>\n",
       "      <td>...</td>\n",
       "      <td>...</td>\n",
       "      <td>...</td>\n",
       "      <td>...</td>\n",
       "    </tr>\n",
       "    <tr>\n",
       "      <th>338</th>\n",
       "      <td>PIERRE 336</td>\n",
       "      <td>Pierre 336</td>\n",
       "      <td>PIERRE 336</td>\n",
       "      <td>Amande 336</td>\n",
       "      <td>03/09/13</td>\n",
       "      <td>Pied</td>\n",
       "    </tr>\n",
       "    <tr>\n",
       "      <th>339</th>\n",
       "      <td>PIERRE 337</td>\n",
       "      <td>Pierre 337</td>\n",
       "      <td>PIERRE 337</td>\n",
       "      <td>Amande 337</td>\n",
       "      <td>04/09/13</td>\n",
       "      <td>Pied</td>\n",
       "    </tr>\n",
       "    <tr>\n",
       "      <th>340</th>\n",
       "      <td>PIERRE 338</td>\n",
       "      <td>Pierre 338</td>\n",
       "      <td>PIERRE 338</td>\n",
       "      <td>Amande 338</td>\n",
       "      <td>05/09/13</td>\n",
       "      <td>Pied</td>\n",
       "    </tr>\n",
       "    <tr>\n",
       "      <th>341</th>\n",
       "      <td>PIERRE 339</td>\n",
       "      <td>Pierre 339</td>\n",
       "      <td>PIERRE 339</td>\n",
       "      <td>Amande 339</td>\n",
       "      <td>06/09/13</td>\n",
       "      <td>Pied</td>\n",
       "    </tr>\n",
       "    <tr>\n",
       "      <th>342</th>\n",
       "      <td>PIERRE 340</td>\n",
       "      <td>Pierre 340</td>\n",
       "      <td>PIERRE 340</td>\n",
       "      <td>Amande 340</td>\n",
       "      <td>07/09/13</td>\n",
       "      <td>Pied</td>\n",
       "    </tr>\n",
       "  </tbody>\n",
       "</table>\n",
       "<p>343 rows × 6 columns</p>\n",
       "</div>"
      ],
      "text/plain": [
       "      NomParent PrenomParent   NomEnfant PrenomEnfant DateNaissance Moyen\n",
       "0        PIERRE       Pierre      PIERRE       Amande      30/09/12  Pied\n",
       "1       PIERRET       Pierre      PIERRE       Amande      01/10/12  Pied\n",
       "2      PIERRICk       Pierre      PIERRE       Amande      02/10/12  Pied\n",
       "3      PIERREYY       Pierre      PIERRE       Amande      03/10/12  Pied\n",
       "4      PIERRE 2     Pierre 2    PIERRE 2     Amande 2      04/10/12  Pied\n",
       "..          ...          ...         ...          ...           ...   ...\n",
       "338  PIERRE 336   Pierre 336  PIERRE 336   Amande 336      03/09/13  Pied\n",
       "339  PIERRE 337   Pierre 337  PIERRE 337   Amande 337      04/09/13  Pied\n",
       "340  PIERRE 338   Pierre 338  PIERRE 338   Amande 338      05/09/13  Pied\n",
       "341  PIERRE 339   Pierre 339  PIERRE 339   Amande 339      06/09/13  Pied\n",
       "342  PIERRE 340   Pierre 340  PIERRE 340   Amande 340      07/09/13  Pied\n",
       "\n",
       "[343 rows x 6 columns]"
      ]
     },
     "execution_count": 85,
     "metadata": {},
     "output_type": "execute_result"
    }
   ],
   "source": [
    "students_file = './assets/Fichier des élèves.csv'\n",
    "with open(students_file, 'rb') as fh:\n",
    " students_data = io.BytesIO(fh.read())\n",
    "type(students_data)\n",
    "copy = students_data\n",
    "students_data.getbuffer().nbytes\n",
    "df = pd.read_csv(students_data, sep=';')\n",
    "df = pd.read_csv(io.BytesIO(students_data.getbuffer()), sep=';')\n",
    "#df\n",
    "students_data.getbuffer().nbytes\n",
    "\n",
    "# # Assume that the user uploaded a CSV file\n",
    "# df = pd.read_csv(copy)\n",
    "# if len(df.columns) == 1: # Is separator , ?\n",
    "#     df = pd.read_csv(students_data, sep=';')\n",
    "#     if len(df.columns) == 1: # Is separator , ?\n",
    "#         df = pd.read_csv(students_data, sep='\\t')\n",
    "df"
   ]
  },
  {
   "cell_type": "code",
   "execution_count": 86,
   "metadata": {},
   "outputs": [
    {
     "name": "stdout",
     "output_type": "stream",
     "text": [
      "CPU times: user 109 ms, sys: 0 ns, total: 109 ms\n",
      "Wall time: 110 ms\n"
     ]
    }
   ],
   "source": [
    "%%time\n",
    "students_file = './assets/Fichier des élèves.csv'\n",
    "school_pdf = PDFGenerator()\n",
    "school_pdf.get_pdf_from_file(students_file, school_sign, school,'test-csv.pdf')"
   ]
  },
  {
   "cell_type": "code",
   "execution_count": null,
   "metadata": {},
   "outputs": [],
   "source": []
  },
  {
   "cell_type": "code",
   "execution_count": 87,
   "metadata": {},
   "outputs": [
    {
     "name": "stdout",
     "output_type": "stream",
     "text": [
      "CPU times: user 120 ms, sys: 1.48 ms, total: 121 ms\n",
      "Wall time: 123 ms\n"
     ]
    }
   ],
   "source": [
    "%%time\n",
    "students_file = './assets/Fichier des élèves.xls'\n",
    "school_pdf = PDFGenerator()\n",
    "school_pdf.get_pdf_from_file(students_file, school_sign, school,'test-xls.pdf')"
   ]
  },
  {
   "cell_type": "code",
   "execution_count": 88,
   "metadata": {},
   "outputs": [
    {
     "name": "stdout",
     "output_type": "stream",
     "text": [
      "CPU times: user 148 ms, sys: 0 ns, total: 148 ms\n",
      "Wall time: 147 ms\n"
     ]
    }
   ],
   "source": [
    "%%time\n",
    "students_file = './assets/Fichier des élèves.xlsx'\n",
    "school_pdf = PDFGenerator()\n",
    "school_pdf.get_pdf_from_file(students_file, school_sign, school,'test-xlsx.pdf')"
   ]
  },
  {
   "cell_type": "code",
   "execution_count": null,
   "metadata": {},
   "outputs": [],
   "source": []
  }
 ],
 "metadata": {
  "kernelspec": {
   "display_name": "Python 3",
   "language": "python",
   "name": "python3"
  },
  "language_info": {
   "codemirror_mode": {
    "name": "ipython",
    "version": 3
   },
   "file_extension": ".py",
   "mimetype": "text/x-python",
   "name": "python",
   "nbconvert_exporter": "python",
   "pygments_lexer": "ipython3",
   "version": "3.8.6"
  }
 },
 "nbformat": 4,
 "nbformat_minor": 4
}
