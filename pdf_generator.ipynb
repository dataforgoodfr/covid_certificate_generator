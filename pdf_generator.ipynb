{
 "cells": [
  {
   "cell_type": "code",
   "execution_count": 1,
   "metadata": {},
   "outputs": [],
   "source": [
    "# default_exp pdf_generator"
   ]
  },
  {
   "cell_type": "markdown",
   "metadata": {},
   "source": [
    "# pdf_generator\n",
    "\n",
    "> Ce module permet de lire les fichiers reçu et de générer le PDF, à l'aide du module pdf_helper."
   ]
  },
  {
   "cell_type": "code",
   "execution_count": 2,
   "metadata": {},
   "outputs": [],
   "source": [
    "#hide\n",
    "from nbdev.showdoc import *\n",
    "!pip install -q -r requirements.txt\n",
    "# For multiple output per cell\n",
    "from IPython.core.interactiveshell import InteractiveShell\n",
    "InteractiveShell.ast_node_interactivity = \"all\""
   ]
  },
  {
   "cell_type": "code",
   "execution_count": 3,
   "metadata": {},
   "outputs": [],
   "source": [
    "#export\n",
    "import datetime\n",
    "import pandas as pd\n",
    "#from fpdf import FPDF\n",
    "from covid_certificate_generator import pdf_helper\n",
    "import io, sys, os\n",
    "import tempfile\n",
    "import pathlib\n",
    "import logging\n",
    "import time"
   ]
  },
  {
   "cell_type": "code",
   "execution_count": 4,
   "metadata": {},
   "outputs": [
    {
     "name": "stdout",
     "output_type": "stream",
     "text": [
      "Overwriting data.csv\n"
     ]
    }
   ],
   "source": [
    "%%writefile data.csv\n",
    "NomParent,PrenomParent,NomEnfant,PrenomEnfant,DateNaissance,Moyen\n",
    "NomParent1,PrenomParent1,NomEnfant1,PrenomEnfant1,12/06/2010,pied\n",
    "NomParent2,PrenomParent2,NomEnfant2,PrenomEnfant2,12/04/2011,pied\n",
    "NomParent3,PrenomParent3,NomEnfant3,PrenomEnfant3,12/04/2011,vélo\n",
    "NomParent4,PrenomParent4,NomEnfant4,\"Prenom, Enfant4\",12/04/2011,car"
   ]
  },
  {
   "cell_type": "code",
   "execution_count": 5,
   "metadata": {},
   "outputs": [
    {
     "data": {
      "text/html": [
       "<div>\n",
       "<style scoped>\n",
       "    .dataframe tbody tr th:only-of-type {\n",
       "        vertical-align: middle;\n",
       "    }\n",
       "\n",
       "    .dataframe tbody tr th {\n",
       "        vertical-align: top;\n",
       "    }\n",
       "\n",
       "    .dataframe thead th {\n",
       "        text-align: right;\n",
       "    }\n",
       "</style>\n",
       "<table border=\"1\" class=\"dataframe\">\n",
       "  <thead>\n",
       "    <tr style=\"text-align: right;\">\n",
       "      <th></th>\n",
       "      <th>NomParent</th>\n",
       "      <th>PrenomParent</th>\n",
       "      <th>NomEnfant</th>\n",
       "      <th>PrenomEnfant</th>\n",
       "      <th>DateNaissance</th>\n",
       "      <th>Moyen</th>\n",
       "    </tr>\n",
       "  </thead>\n",
       "  <tbody>\n",
       "    <tr>\n",
       "      <th>0</th>\n",
       "      <td>NomParent1</td>\n",
       "      <td>PrenomParent1</td>\n",
       "      <td>NomEnfant1</td>\n",
       "      <td>PrenomEnfant1</td>\n",
       "      <td>12/06/2010</td>\n",
       "      <td>pied</td>\n",
       "    </tr>\n",
       "    <tr>\n",
       "      <th>1</th>\n",
       "      <td>NomParent2</td>\n",
       "      <td>PrenomParent2</td>\n",
       "      <td>NomEnfant2</td>\n",
       "      <td>PrenomEnfant2</td>\n",
       "      <td>12/04/2011</td>\n",
       "      <td>pied</td>\n",
       "    </tr>\n",
       "    <tr>\n",
       "      <th>2</th>\n",
       "      <td>NomParent3</td>\n",
       "      <td>PrenomParent3</td>\n",
       "      <td>NomEnfant3</td>\n",
       "      <td>PrenomEnfant3</td>\n",
       "      <td>12/04/2011</td>\n",
       "      <td>vélo</td>\n",
       "    </tr>\n",
       "    <tr>\n",
       "      <th>3</th>\n",
       "      <td>NomParent4</td>\n",
       "      <td>PrenomParent4</td>\n",
       "      <td>NomEnfant4</td>\n",
       "      <td>Prenom, Enfant4</td>\n",
       "      <td>12/04/2011</td>\n",
       "      <td>car</td>\n",
       "    </tr>\n",
       "  </tbody>\n",
       "</table>\n",
       "</div>"
      ],
      "text/plain": [
       "    NomParent   PrenomParent   NomEnfant     PrenomEnfant DateNaissance Moyen\n",
       "0  NomParent1  PrenomParent1  NomEnfant1    PrenomEnfant1    12/06/2010  pied\n",
       "1  NomParent2  PrenomParent2  NomEnfant2    PrenomEnfant2    12/04/2011  pied\n",
       "2  NomParent3  PrenomParent3  NomEnfant3    PrenomEnfant3    12/04/2011  vélo\n",
       "3  NomParent4  PrenomParent4  NomEnfant4  Prenom, Enfant4    12/04/2011   car"
      ]
     },
     "execution_count": 5,
     "metadata": {},
     "output_type": "execute_result"
    }
   ],
   "source": [
    "#ignore\n",
    "df = pd.read_csv('data.csv')\n",
    "df"
   ]
  },
  {
   "cell_type": "code",
   "execution_count": 13,
   "metadata": {},
   "outputs": [],
   "source": [
    "#export\n",
    "class PDFGenerator:\n",
    "    config = None # Dict configuration\n",
    "    school = None\n",
    "    school_sign = None\n",
    "    logger = None\n",
    "    num_pages = 0\n",
    "    pdf_w=210\n",
    "    pdf_h=297\n",
    "    \n",
    "    def __init__(self, config_file=None):\n",
    "        \"\"\"\n",
    "        Constructor\n",
    "        :param config_file: str, Path to config file\n",
    "        :return:\n",
    "        \"\"\"\n",
    "        logger = logging.getLogger(\"download\")\n",
    "        formatter = logging.Formatter(\"%(asctime)s -  %(name)-12s %(levelname)-8s %(message)s\")\n",
    "        logger.setLevel(logging.DEBUG)\n",
    "        log_file = f\"./logs/pdf_generator-{datetime.datetime.today().strftime('%Y-%m-%d')}.log\"\n",
    "        fh = logging.FileHandler(log_file)\n",
    "        fh.setLevel(logging.DEBUG)\n",
    "        fh.setFormatter(formatter)\n",
    "        logger.addHandler(fh) # Output to file\n",
    "        logger.addHandler(logging.StreamHandler()) # And to console\n",
    "        self.logger = logger\n",
    "        #logger.info(f'Starting...')\n",
    "\n",
    "    def get_temp_file(self, ext=None):\n",
    "        tmp_dir = tempfile._get_default_tempdir()\n",
    "        tmp_name = next(tempfile._get_candidate_names())\n",
    "        if ext:\n",
    "            return os.path.join(tmp_dir, tmp_name + ext)\n",
    "        else:\n",
    "            return os.path.join(tmp_dir, tmp_name)\n",
    "\n",
    "    def generate_one_attestation(self, prenom_parent, nom_parent, prenom_enfant, nom_enfant, date_naissance, moyen):\n",
    "        self.pdf.add_page()\n",
    "        self.pdf.titles()\n",
    "        self.pdf.texte_parent(prenom_parent, nom_parent)\n",
    "        self.pdf.texte_enfant(prenom_enfant, nom_enfant,date_naissance, moyen)\n",
    "        self.pdf.texte_etablissement(\n",
    "            self.school['school_name'], self.school['school_adress'], self.school_sign, self.school['city'])\n",
    "\n",
    "    def generate(self, row):\n",
    "        self.generate_one_attestation(row.PrenomParent, row.NomParent, row.PrenomEnfant, row.NomEnfant, row.DateNaissance, row.Moyen)\n",
    "        \n",
    "    def get_pdf(self, students_data, school_sign, school):\n",
    "        \n",
    "        self.school_sign = school_sign\n",
    "        self.school = school\n",
    "        try:\n",
    "            if isinstance(students_data, str) and len(students_data)<256:\n",
    "                with open(students_data, 'rb') as fh:\n",
    "                    students_data = io.BytesIO(fh.read())\n",
    "            header = students_data.read(3)\n",
    "            students_data.seek(0,0)\n",
    "            XLS = b'\\xd0\\xcf\\x11'\n",
    "            XLSX = b'PK\\x03'\n",
    "            CSV = b'\\xef\\xbb\\xbf' # UTF-8 Unicode (with BOM) text\n",
    "            ascii_text = all(c > 60 and c < 128 for c in header)\n",
    "            if header == CSV or ascii_text:\n",
    "                #if '.csv' in students_filename:\n",
    "                # The user uploaded a CSV file\n",
    "                df = pd.read_csv(students_data)\n",
    "                if len(df.columns) == 1: # Is separator , ?\n",
    "                    students_data.seek(0,0)\n",
    "                    df = pd.read_csv(students_data, sep=';')\n",
    "                    if len(df.columns) == 1: # Is separator \\t ?\n",
    "                        students_data.seek(0,0)\n",
    "                        df = pd.read_csv(students_data, sep='\\t')\n",
    "            elif header in (XLS, XLSX):\n",
    "                df = pd.read_excel(students_data)\n",
    "            else:\n",
    "                # Assume that the user uploaded an excel file\n",
    "                df = pd.read_excel(students_data)\n",
    "        except:\n",
    "            error = f'ERREUR à la lecture du fichier : {sys.exc_info()[0]}'\n",
    "            self.logger.error(error)\n",
    "            raise\n",
    "            \n",
    "        if len(df.columns) < 6:\n",
    "            raise ValueError(\"Format de fichier invalide : pas assez de colonnes !\")\n",
    "        self.pdf = pdf_helper.PDF(orientation='P', unit='mm', format='A4')\n",
    "        self.pdf.set_author('Data For Good France')\n",
    "        _ = df.apply(self.generate, axis=1)\n",
    "        self.num_pages = len(df)\n",
    "        \n",
    "\n",
    "    def get_pdf_from_file(self, students_file, school_sign, school, output_name, return_object = False):\n",
    "        start_time = time.time()\n",
    "        self.logger.debug(f\"Starting get_pdf_from_file for {school['school_name']}\")\n",
    "        # Read file\n",
    "#         with open(students_file, 'rb') as fh:\n",
    "#             students_data = io.BytesIO(fh.read())\n",
    "        self.get_pdf(students_file, school_sign, school)\n",
    "        \n",
    "        if return_object:\n",
    "            result = self.pdf.output(output_name,\"S\")\n",
    "        else:\n",
    "            _ = self.pdf.output(output_name,'F')\n",
    "            result = None\n",
    "        exec_time = f'Execution time for {self.num_pages} pages: {round(time.time() - start_time, 3)} second(s).'\n",
    "        self.logger.info(exec_time)\n",
    "        return result\n",
    "\n",
    "    def get_pdf_from_BytesIO(self, students_filename, students_data, school_sign_filename, school_sign_data, school):\n",
    "        start_time = time.time()\n",
    "        self.logger.debug(f'Starting get_pdf_from_BytesIO...')\n",
    "        if len(school_sign_filename) < 2:\n",
    "            school_sign_filename = ''\n",
    "        school_sign_filename = self.get_temp_file(school_sign_filename)\n",
    "        with open(school_sign_filename, \"wb\") as f:\n",
    "            f.write(school_sign_data.getbuffer())\n",
    "        self.get_pdf(students_data, school_sign_filename, school)\n",
    "        output_name = self.get_temp_file('.pdf')\n",
    "        _ = self.pdf.output(output_name,'F')\n",
    "        # Clean temp file for school image\n",
    "        path = pathlib.Path(school_sign_filename)\n",
    "        path.unlink()\n",
    "        exec_time = f'Execution time for {self.num_pages} pages: {round(time.time() - start_time, 3)} second(s).'\n",
    "        self.logger.info(exec_time)\n",
    "        return output_name\n",
    "        #return self.pdf.output(dest='I')\n"
   ]
  },
  {
   "cell_type": "code",
   "execution_count": 14,
   "metadata": {},
   "outputs": [
    {
     "name": "stderr",
     "output_type": "stream",
     "text": [
      "Starting get_pdf_from_BytesIO...\n",
      "Execution time for 4 pages: 0.03 second(s).\n"
     ]
    },
    {
     "name": "stdout",
     "output_type": "stream",
     "text": [
      "/tmp/u7jtalxj.pdf\n",
      "CPU times: user 16.6 ms, sys: 16.7 ms, total: 33.3 ms\n",
      "Wall time: 31.9 ms\n"
     ]
    }
   ],
   "source": [
    "%%time\n",
    "school={\n",
    "    'school_name':'Ecole Jean Jaurès',\n",
    "    'school_adress':'rue Jean Jaurès, 42 000 Libreville',\n",
    "    'city':'Libreville'\n",
    "}\n",
    "students_filename = 'data.csv'\n",
    "school_sign_filename = 'cachet.jpg'\n",
    "\n",
    "#decoded = base64.b64decode(students_file)\n",
    "#students_file = io.BytesIO(decoded)\n",
    "\n",
    "\n",
    "with open(students_filename, 'rb') as fh:\n",
    "    students_data = io.BytesIO(fh.read())\n",
    "with open(school_sign_filename, 'rb') as fh:\n",
    "    school_sign_data = io.BytesIO(fh.read())\n",
    "school_pdf = PDFGenerator()\n",
    "res = school_pdf.get_pdf_from_BytesIO(students_filename, students_data, school_sign_filename, school_sign_data, school)\n",
    "type(res)\n",
    "print(res)\n",
    "# with open(\"pdf-bytesio.pdf\", \"wb\") as f:\n",
    "#     f.write(res.encode())"
   ]
  },
  {
   "cell_type": "code",
   "execution_count": 15,
   "metadata": {},
   "outputs": [
    {
     "name": "stderr",
     "output_type": "stream",
     "text": [
      "Starting get_pdf_from_file for Ecole Jean Jaurès\n",
      "Starting get_pdf_from_file for Ecole Jean Jaurès\n",
      "Execution time for 4 pages: 0.01 second(s).\n",
      "Execution time for 4 pages: 0.01 second(s).\n"
     ]
    },
    {
     "name": "stdout",
     "output_type": "stream",
     "text": [
      "CPU times: user 12.2 ms, sys: 378 µs, total: 12.6 ms\n",
      "Wall time: 11.5 ms\n"
     ]
    }
   ],
   "source": [
    "%%time\n",
    "\n",
    "students_file = 'data.csv'\n",
    "school_sign = 'cachet.jpg'\n",
    "school_pdf = PDFGenerator()\n",
    "school_pdf.get_pdf_from_file(students_file, school_sign, school,'test.pdf')"
   ]
  },
  {
   "cell_type": "markdown",
   "metadata": {},
   "source": [
    "From https://readxl.tidyverse.org/reference/excel_format.html\n",
    "    \n",
    "File signatures (in hexadecimal) for xlsx vs xls:\n",
    "- xlsx: First 4 bytes are 50 4B 03 04\n",
    "- xls: First 8 bytes are D0 CF 11 E0 A1 B1 1A E1\n",
    "- CSV : b'\\xef\\xbb\\xbfNo'\n",
    "- XLS : b'\\xd0\\xcf\\x11\\xe0\\xa1'\n",
    "- XLSX : b'PK\\x03\\x04\\x14'"
   ]
  },
  {
   "cell_type": "code",
   "execution_count": 16,
   "metadata": {},
   "outputs": [
    {
     "name": "stdout",
     "output_type": "stream",
     "text": [
      "----------- ./assets/Fichier des élèves.csv\n",
      "<class 'str'>\n"
     ]
    },
    {
     "data": {
      "text/plain": [
       "_io.BytesIO"
      ]
     },
     "execution_count": 16,
     "metadata": {},
     "output_type": "execute_result"
    },
    {
     "data": {
      "text/plain": [
       "0"
      ]
     },
     "execution_count": 16,
     "metadata": {},
     "output_type": "execute_result"
    },
    {
     "name": "stdout",
     "output_type": "stream",
     "text": [
      "b'\\xef\\xbb\\xbf' False\n",
      "CSV !\n"
     ]
    },
    {
     "data": {
      "text/plain": [
       "0"
      ]
     },
     "execution_count": 16,
     "metadata": {},
     "output_type": "execute_result"
    },
    {
     "name": "stdout",
     "output_type": "stream",
     "text": [
      "----------- ./assets/Fichier des élèves.xls\n",
      "<class 'str'>\n"
     ]
    },
    {
     "data": {
      "text/plain": [
       "_io.BytesIO"
      ]
     },
     "execution_count": 16,
     "metadata": {},
     "output_type": "execute_result"
    },
    {
     "data": {
      "text/plain": [
       "0"
      ]
     },
     "execution_count": 16,
     "metadata": {},
     "output_type": "execute_result"
    },
    {
     "name": "stdout",
     "output_type": "stream",
     "text": [
      "b'\\xd0\\xcf\\x11' False\n",
      "Excel !\n",
      "----------- ./assets/Fichier des élèves.xlsx\n",
      "<class 'str'>\n"
     ]
    },
    {
     "data": {
      "text/plain": [
       "_io.BytesIO"
      ]
     },
     "execution_count": 16,
     "metadata": {},
     "output_type": "execute_result"
    },
    {
     "data": {
      "text/plain": [
       "0"
      ]
     },
     "execution_count": 16,
     "metadata": {},
     "output_type": "execute_result"
    },
    {
     "name": "stdout",
     "output_type": "stream",
     "text": [
      "b'PK\\x03' False\n",
      "Excel !\n",
      "----------- data.csv\n",
      "<class 'str'>\n"
     ]
    },
    {
     "data": {
      "text/plain": [
       "_io.BytesIO"
      ]
     },
     "execution_count": 16,
     "metadata": {},
     "output_type": "execute_result"
    },
    {
     "data": {
      "text/plain": [
       "0"
      ]
     },
     "execution_count": 16,
     "metadata": {},
     "output_type": "execute_result"
    },
    {
     "name": "stdout",
     "output_type": "stream",
     "text": [
      "b'Nom' True\n",
      "CSV !\n"
     ]
    },
    {
     "data": {
      "text/html": [
       "<div>\n",
       "<style scoped>\n",
       "    .dataframe tbody tr th:only-of-type {\n",
       "        vertical-align: middle;\n",
       "    }\n",
       "\n",
       "    .dataframe tbody tr th {\n",
       "        vertical-align: top;\n",
       "    }\n",
       "\n",
       "    .dataframe thead th {\n",
       "        text-align: right;\n",
       "    }\n",
       "</style>\n",
       "<table border=\"1\" class=\"dataframe\">\n",
       "  <thead>\n",
       "    <tr style=\"text-align: right;\">\n",
       "      <th></th>\n",
       "      <th>NomParent</th>\n",
       "      <th>PrenomParent</th>\n",
       "      <th>NomEnfant</th>\n",
       "      <th>PrenomEnfant</th>\n",
       "      <th>DateNaissance</th>\n",
       "      <th>Moyen</th>\n",
       "    </tr>\n",
       "  </thead>\n",
       "  <tbody>\n",
       "    <tr>\n",
       "      <th>0</th>\n",
       "      <td>NomParent1</td>\n",
       "      <td>PrenomParent1</td>\n",
       "      <td>NomEnfant1</td>\n",
       "      <td>PrenomEnfant1</td>\n",
       "      <td>12/06/2010</td>\n",
       "      <td>pied</td>\n",
       "    </tr>\n",
       "    <tr>\n",
       "      <th>1</th>\n",
       "      <td>NomParent2</td>\n",
       "      <td>PrenomParent2</td>\n",
       "      <td>NomEnfant2</td>\n",
       "      <td>PrenomEnfant2</td>\n",
       "      <td>12/04/2011</td>\n",
       "      <td>pied</td>\n",
       "    </tr>\n",
       "    <tr>\n",
       "      <th>2</th>\n",
       "      <td>NomParent3</td>\n",
       "      <td>PrenomParent3</td>\n",
       "      <td>NomEnfant3</td>\n",
       "      <td>PrenomEnfant3</td>\n",
       "      <td>12/04/2011</td>\n",
       "      <td>vélo</td>\n",
       "    </tr>\n",
       "    <tr>\n",
       "      <th>3</th>\n",
       "      <td>NomParent4</td>\n",
       "      <td>PrenomParent4</td>\n",
       "      <td>NomEnfant4</td>\n",
       "      <td>Prenom, Enfant4</td>\n",
       "      <td>12/04/2011</td>\n",
       "      <td>car</td>\n",
       "    </tr>\n",
       "  </tbody>\n",
       "</table>\n",
       "</div>"
      ],
      "text/plain": [
       "    NomParent   PrenomParent   NomEnfant     PrenomEnfant DateNaissance Moyen\n",
       "0  NomParent1  PrenomParent1  NomEnfant1    PrenomEnfant1    12/06/2010  pied\n",
       "1  NomParent2  PrenomParent2  NomEnfant2    PrenomEnfant2    12/04/2011  pied\n",
       "2  NomParent3  PrenomParent3  NomEnfant3    PrenomEnfant3    12/04/2011  vélo\n",
       "3  NomParent4  PrenomParent4  NomEnfant4  Prenom, Enfant4    12/04/2011   car"
      ]
     },
     "execution_count": 16,
     "metadata": {},
     "output_type": "execute_result"
    }
   ],
   "source": [
    "#hide\n",
    "files = ['./assets/Fichier des élèves.csv', './assets/Fichier des élèves.xls', './assets/Fichier des élèves.xlsx','data.csv']\n",
    "\n",
    "for students_file in files :\n",
    "    print(\"-----------\", students_file)\n",
    "    print(type(students_file))\n",
    "    with open(students_file, 'rb') as fh:\n",
    "     students_data = io.BytesIO(fh.read())\n",
    "#     mime = magic.from_buffer(students_data.read(10))\n",
    "#     print('mime', mime)\n",
    "    type(students_data)\n",
    "    header = students_data.read(3)\n",
    "    students_data.seek(0,0)\n",
    "    ascii_text = all(c > 60 and c < 128 for c in header)\n",
    "    print(header, ascii_text)\n",
    "    XLS = b'\\xd0\\xcf\\x11'\n",
    "    XLSX = b'PK\\x03'\n",
    "    CSV = b'\\xef\\xbb\\xbf' # UTF-8 Unicode (with BOM) text\n",
    "    if header == CSV or ascii_text:\n",
    "        print('CSV !')\n",
    "        #if '.csv' in students_filename:\n",
    "        # The user uploaded a CSV file\n",
    "        df = pd.read_csv(students_data)\n",
    "        if len(df.columns) == 1: # Is separator , ?\n",
    "            students_data.seek(0,0)\n",
    "            df = pd.read_csv(students_data, sep=';')\n",
    "            if len(df.columns) == 1: # Is separator \\t ?\n",
    "                students_data.seek(0,0)\n",
    "                df = pd.read_csv(students_data, sep='\\t')\n",
    "    else:\n",
    "        print('Excel !')\n",
    "        df = pd.read_excel(students_data)\n",
    "df"
   ]
  },
  {
   "cell_type": "code",
   "execution_count": 17,
   "metadata": {},
   "outputs": [
    {
     "name": "stderr",
     "output_type": "stream",
     "text": [
      "Starting get_pdf_from_file for Ecole Jean Jaurès\n",
      "Starting get_pdf_from_file for Ecole Jean Jaurès\n",
      "Starting get_pdf_from_file for Ecole Jean Jaurès\n",
      "Execution time for 343 pages: 0.119 second(s).\n",
      "Execution time for 343 pages: 0.119 second(s).\n",
      "Execution time for 343 pages: 0.119 second(s).\n"
     ]
    },
    {
     "name": "stdout",
     "output_type": "stream",
     "text": [
      "CPU times: user 122 ms, sys: 622 µs, total: 122 ms\n",
      "Wall time: 121 ms\n"
     ]
    }
   ],
   "source": [
    "%%time\n",
    "students_file = './assets/Fichier des élèves.csv'\n",
    "school_pdf = PDFGenerator()\n",
    "school_pdf.get_pdf_from_file(students_file, school_sign, school,'test-csv.pdf')"
   ]
  },
  {
   "cell_type": "code",
   "execution_count": 18,
   "metadata": {},
   "outputs": [
    {
     "name": "stderr",
     "output_type": "stream",
     "text": [
      "Starting get_pdf_from_file for Ecole Jean Jaurès\n",
      "Starting get_pdf_from_file for Ecole Jean Jaurès\n",
      "Starting get_pdf_from_file for Ecole Jean Jaurès\n",
      "Starting get_pdf_from_file for Ecole Jean Jaurès\n",
      "Execution time for 343 pages: 0.124 second(s).\n",
      "Execution time for 343 pages: 0.124 second(s).\n",
      "Execution time for 343 pages: 0.124 second(s).\n",
      "Execution time for 343 pages: 0.124 second(s).\n"
     ]
    },
    {
     "name": "stdout",
     "output_type": "stream",
     "text": [
      "CPU times: user 122 ms, sys: 6.66 ms, total: 129 ms\n",
      "Wall time: 127 ms\n"
     ]
    }
   ],
   "source": [
    "%%time\n",
    "students_file = './assets/Fichier des élèves.xls'\n",
    "school_pdf = PDFGenerator()\n",
    "school_pdf.get_pdf_from_file(students_file, school_sign, school,'test-xls.pdf')"
   ]
  },
  {
   "cell_type": "code",
   "execution_count": 19,
   "metadata": {},
   "outputs": [
    {
     "name": "stderr",
     "output_type": "stream",
     "text": [
      "Starting get_pdf_from_file for Ecole Jean Jaurès\n",
      "Starting get_pdf_from_file for Ecole Jean Jaurès\n",
      "Starting get_pdf_from_file for Ecole Jean Jaurès\n",
      "Starting get_pdf_from_file for Ecole Jean Jaurès\n",
      "Starting get_pdf_from_file for Ecole Jean Jaurès\n",
      "Execution time for 343 pages: 0.153 second(s).\n",
      "Execution time for 343 pages: 0.153 second(s).\n",
      "Execution time for 343 pages: 0.153 second(s).\n",
      "Execution time for 343 pages: 0.153 second(s).\n",
      "Execution time for 343 pages: 0.153 second(s).\n"
     ]
    },
    {
     "name": "stdout",
     "output_type": "stream",
     "text": [
      "CPU times: user 159 ms, sys: 0 ns, total: 159 ms\n",
      "Wall time: 158 ms\n"
     ]
    }
   ],
   "source": [
    "%%time\n",
    "students_file = './assets/Fichier des élèves.xlsx'\n",
    "school_pdf = PDFGenerator()\n",
    "school_pdf.get_pdf_from_file(students_file, school_sign, school,'test-xlsx.pdf')"
   ]
  },
  {
   "cell_type": "code",
   "execution_count": null,
   "metadata": {},
   "outputs": [],
   "source": []
  },
  {
   "cell_type": "code",
   "execution_count": null,
   "metadata": {},
   "outputs": [],
   "source": []
  },
  {
   "cell_type": "code",
   "execution_count": null,
   "metadata": {},
   "outputs": [],
   "source": []
  }
 ],
 "metadata": {
  "kernelspec": {
   "display_name": "Python 3",
   "language": "python",
   "name": "python3"
  },
  "language_info": {
   "codemirror_mode": {
    "name": "ipython",
    "version": 3
   },
   "file_extension": ".py",
   "mimetype": "text/x-python",
   "name": "python",
   "nbconvert_exporter": "python",
   "pygments_lexer": "ipython3",
   "version": "3.8.6"
  }
 },
 "nbformat": 4,
 "nbformat_minor": 4
}
