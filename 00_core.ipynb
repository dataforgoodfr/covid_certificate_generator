{
 "cells": [
  {
   "cell_type": "code",
   "execution_count": null,
   "metadata": {},
   "outputs": [],
   "source": [
    "# default_exp core"
   ]
  },
  {
   "cell_type": "markdown",
   "metadata": {},
   "source": [
    "# covid_certificate_generator\n",
    "\n",
    "> Ce module permet de générer le PDF.\n",
    "\n",
    "D'après le modèle du gouvernement : https://www.gouvernement.fr/info-coronavirus/ressources-a-partager\n",
    "\n",
    "\n",
    "JUSTIFICATIF DE DÉPLACEMENT SCOLAIRE   \n",
    "En application des mesures générales nécessaires pour faire face à l’épidémie de covid-19 \n",
    "dans le cadre de l’état d’urgence sanitaire.\n",
    "\n",
    "\n",
    "Je soussigné(e),  \n",
    "\n",
    "Nom et prénom des parents, ou responsable de l’enfant dûment identifié  :  \n",
    "\n",
    "certifie le caractère indispensable de mes déplacements, entre mon domicile et le lieu d’accueil de l’enfant :  \n",
    "Nom :  \n",
    "Prénom :  \n",
    "Date de naissance :  \n",
    "Moyen de déplacement :  \n",
    "\n",
    "Nom adresse et cachet l’établissement d’accueil de l’enfant :  \n",
    "Fait à :  \n",
    "Le :  "
   ]
  },
  {
   "cell_type": "code",
   "execution_count": null,
   "metadata": {},
   "outputs": [],
   "source": [
    "#hide\n",
    "from nbdev.showdoc import *\n",
    "!pip install -q -r requirements.txt"
   ]
  },
  {
   "cell_type": "code",
   "execution_count": null,
   "metadata": {},
   "outputs": [],
   "source": [
    "#export\n",
    "import datetime\n",
    "import pandas as pd\n",
    "from fpdf import FPDF"
   ]
  },
  {
   "cell_type": "code",
   "execution_count": null,
   "metadata": {},
   "outputs": [
    {
     "name": "stdout",
     "output_type": "stream",
     "text": [
      "Overwriting data.csv\n"
     ]
    }
   ],
   "source": [
    "%%writefile data.csv\n",
    "NomParent,PrenomParent,NomEnfant,PrenomEnfant,DateNaissance,Moyen\n",
    "NomParent1,PrenomParent1,NomEnfant1,PrenomEnfant1,12/06/2010,pied\n",
    "NomParent2,PrenomParent2,NomEnfant2,PrenomEnfant2,12/04/2011,pied\n",
    "NomParent3,PrenomParent3,NomEnfant3,PrenomEnfant3,12/04/2011,vélo\n",
    "NomParent4,PrenomParent4,NomEnfant4,\"Prenom, Enfant4\",12/04/2011,car"
   ]
  },
  {
   "cell_type": "code",
   "execution_count": null,
   "metadata": {},
   "outputs": [
    {
     "data": {
      "text/html": [
       "<div>\n",
       "<style scoped>\n",
       "    .dataframe tbody tr th:only-of-type {\n",
       "        vertical-align: middle;\n",
       "    }\n",
       "\n",
       "    .dataframe tbody tr th {\n",
       "        vertical-align: top;\n",
       "    }\n",
       "\n",
       "    .dataframe thead th {\n",
       "        text-align: right;\n",
       "    }\n",
       "</style>\n",
       "<table border=\"1\" class=\"dataframe\">\n",
       "  <thead>\n",
       "    <tr style=\"text-align: right;\">\n",
       "      <th></th>\n",
       "      <th>NomParent</th>\n",
       "      <th>PrenomParent</th>\n",
       "      <th>NomEnfant</th>\n",
       "      <th>PrenomEnfant</th>\n",
       "      <th>DateNaissance</th>\n",
       "      <th>Moyen</th>\n",
       "    </tr>\n",
       "  </thead>\n",
       "  <tbody>\n",
       "    <tr>\n",
       "      <th>0</th>\n",
       "      <td>NomParent1</td>\n",
       "      <td>PrenomParent1</td>\n",
       "      <td>NomEnfant1</td>\n",
       "      <td>PrenomEnfant1</td>\n",
       "      <td>12/06/2010</td>\n",
       "      <td>pied</td>\n",
       "    </tr>\n",
       "    <tr>\n",
       "      <th>1</th>\n",
       "      <td>NomParent2</td>\n",
       "      <td>PrenomParent2</td>\n",
       "      <td>NomEnfant2</td>\n",
       "      <td>PrenomEnfant2</td>\n",
       "      <td>12/04/2011</td>\n",
       "      <td>pied</td>\n",
       "    </tr>\n",
       "    <tr>\n",
       "      <th>2</th>\n",
       "      <td>NomParent3</td>\n",
       "      <td>PrenomParent3</td>\n",
       "      <td>NomEnfant3</td>\n",
       "      <td>PrenomEnfant3</td>\n",
       "      <td>12/04/2011</td>\n",
       "      <td>vélo</td>\n",
       "    </tr>\n",
       "    <tr>\n",
       "      <th>3</th>\n",
       "      <td>NomParent4</td>\n",
       "      <td>PrenomParent4</td>\n",
       "      <td>NomEnfant4</td>\n",
       "      <td>Prenom, Enfant4</td>\n",
       "      <td>12/04/2011</td>\n",
       "      <td>car</td>\n",
       "    </tr>\n",
       "  </tbody>\n",
       "</table>\n",
       "</div>"
      ],
      "text/plain": [
       "    NomParent   PrenomParent   NomEnfant     PrenomEnfant DateNaissance Moyen\n",
       "0  NomParent1  PrenomParent1  NomEnfant1    PrenomEnfant1    12/06/2010  pied\n",
       "1  NomParent2  PrenomParent2  NomEnfant2    PrenomEnfant2    12/04/2011  pied\n",
       "2  NomParent3  PrenomParent3  NomEnfant3    PrenomEnfant3    12/04/2011  vélo\n",
       "3  NomParent4  PrenomParent4  NomEnfant4  Prenom, Enfant4    12/04/2011   car"
      ]
     },
     "execution_count": null,
     "metadata": {},
     "output_type": "execute_result"
    }
   ],
   "source": [
    "#ignore\n",
    "df = pd.read_csv('data.csv')\n",
    "df"
   ]
  },
  {
   "cell_type": "code",
   "execution_count": null,
   "metadata": {},
   "outputs": [],
   "source": [
    "#export\n",
    "\n",
    "\n",
    "class PDF(FPDF):\n",
    "    pdf_w=210\n",
    "    pdf_h=297\n",
    "    margin_left = 20\n",
    "    def escape(self, texte):\n",
    "        return texte.encode('latin-1', 'replace').decode('latin-1')\n",
    "\n",
    "    def lines(self):\n",
    "        self.set_fill_color(32.0, 47.0, 250.0) # color for outer rectangle\n",
    "        self.rect(5.0, 5.0, 200.0,287.0,'DF')\n",
    "        self.set_fill_color(255, 255, 255) # color for inner rectangle\n",
    "        self.rect(8.0, 8.0, 194.0,282.0,'FD')\n",
    "\n",
    "    def imagex(self):\n",
    "        self.set_xy(6.0,6.0)\n",
    "        self.image(sctplt,  link='', type='', w=1586/80, h=1920/80)\n",
    "        self.set_xy(183.0,6.0)\n",
    "        self.image(sctplt2,  link='', type='', w=1586/80, h=1920/80)\n",
    "\n",
    "    def titles(self):\n",
    "        self.set_xy(0.0,0.0)\n",
    "        self.set_font('Arial', 'B', 16)\n",
    "        self.set_text_color(0, 0, 0)\n",
    "        self.cell(w=210.0, h=40.0, align='C', txt=self.escape(\"JUSTIFICATIF DE DÉPLACEMENT SCOLAIRE\"), border=0)\n",
    "\n",
    "    def texte_parent(self, prenom_parent, nom_parent):\n",
    "        self.set_xy(0.0,0.0)\n",
    "        self.set_font('Arial', 'B', 10)\n",
    "        self.set_text_color(0, 0, 0)\n",
    "        texte = self.escape(\"En application des mesures générales nécessaires pour faire face à l'épidémie de covid-19\")\n",
    "        self.cell(w=self.pdf_w, h=80, align='C', txt=texte, border=0)\n",
    "        self.set_xy(0.0,0.0)\n",
    "        texte = self.escape(\"dans le cadre de l’état d’urgence sanitaire.\")\n",
    "        \n",
    "        self.set_xy(self.margin_left,0.0)\n",
    "        self.cell(w=10, h=110.0, align='L', txt=self.escape(\"Je soussigné(e),\"), border=0)\n",
    "        texte = self.escape(\"Nom et prénom des parents, ou responsable de l'enfant dûment identifié  :  \")\n",
    "        self.cell(w=50, h=120, align='L', txt=texte, border=0)\n",
    "        texte = self.escape(f\"\\t {prenom_parent} {nom_parent}\")\n",
    "        self.set_xy(self.margin_left*2,0.0)\n",
    "        self.cell(w=0, h=130, align='L', txt=texte, border=0)\n",
    "\n",
    "    def texte_enfant(self, prenom_enfant, nom_enfant, date_naissance, moyen):\n",
    "        self.set_xy(self.margin_left, 130.0)\n",
    "        self.set_font('Arial', 'B', 10)\n",
    "        self.set_text_color(0, 0, 0)\n",
    "        texte = self.escape(\"certifie le caractère indispensable de mes déplacements, entre mon domicile et le lieu d'accueil de l'enfant :\")\n",
    "        self.cell(w=0, h=0, align='L', txt=texte, border=0)\n",
    "        self.set_xy(self.margin_left,140)\n",
    "        texte = self.escape(f\"Nom : {nom_enfant}\")\n",
    "        self.cell(w=0, h=0, align='L', txt=texte, border=0)\n",
    "        self.set_xy(self.margin_left,150)\n",
    "        texte = self.escape(f\"Prénom : {prenom_enfant}\")\n",
    "        self.cell(w=0, h=0, align='L', txt=texte, border=0)\n",
    "        self.set_xy(self.margin_left,160)\n",
    "        texte = self.escape(f\"Date de naissance : {date_naissance}\")\n",
    "        self.cell(w=0, h=0, align='L', txt=texte, border=0)\n",
    "        self.set_xy(self.margin_left,165)\n",
    "        texte = self.escape(f\"Moyen de déplacement : {moyen}\")\n",
    "        self.cell(w=0, h=0, align='L', txt=texte, border=0)\n",
    "        \n",
    "    def texte_etablissement(self, nom_etap, adresse_etab, cachet, ville):\n",
    "        top = 180\n",
    "        self.set_xy(self.margin_left,top)\n",
    "        texte = self.escape(f\"Nom de l'établissement : {nom_etap}\")\n",
    "        self.cell(w=0, h=0, align='L', txt=texte, border=0)\n",
    "        self.set_xy(self.margin_left,top+10)\n",
    "        texte = self.escape(f\"Adresse de l'établissement : {adresse_etab}\")\n",
    "        self.cell(w=0, h=0, align='L', txt=texte, border=0)\n",
    "        self.set_xy(self.margin_left,top+20)\n",
    "        texte = self.escape(f\"Fait à : {ville}\")\n",
    "        self.cell(w=0, h=0, align='L', txt=texte, border=0)\n",
    "        self.set_xy(self.margin_left,top+30)\n",
    "        texte = self.escape(f\"Le : {datetime.datetime.today().strftime('%Y-%m-%d')}\")\n",
    "        self.cell(w=0, h=0, align='L', txt=texte, border=0)\n",
    "        self.image(cachet, x=self.margin_left*2, y=top+50, w=100)\n",
    "        \n",
    "class PDFGenerator:\n",
    "    config = None # Dict configuration\n",
    "    school = None\n",
    "    students_file = None\n",
    "    pdf_w=210\n",
    "    pdf_h=297\n",
    "    \n",
    "    def __init__(self, students_file, school, config_file=None):\n",
    "        \"\"\"\n",
    "        Constructor\n",
    "        :param config_file: str, Path to config file\n",
    "        :return:\n",
    "        \"\"\"\n",
    "        self.school = school\n",
    "        self.students_file = students_file\n",
    "        # Load config\n",
    "#         with open(config_file) as json_data_file:\n",
    "#             self.config = json.load(json_data_file)\n",
    "        #self.conn = self.swift_con()\n",
    "\n",
    "    \n",
    "    \n",
    "    #pdf.set_doc_option('core_fonts_encoding', 'utf-8')\n",
    "\n",
    "    def generate_one_attestation(self, prenom_parent, nom_parent, prenom_enfant, nom_enfant, date_naissance, moyen):\n",
    "        self.pdf.add_page()\n",
    "        #pdf.lines()\n",
    "        self.pdf.titles()\n",
    "        self.pdf.texte_parent(prenom_parent, nom_parent)\n",
    "        self.pdf.texte_enfant(prenom_enfant, nom_enfant,date_naissance, moyen)\n",
    "        self.pdf.texte_etablissement(\n",
    "            self.school['school_name'], self.school['school_adress'], self.school['school_sign'], self.school['city'])\n",
    "\n",
    "    def generate(self, row):\n",
    "        self.generate_one_attestation(row.PrenomParent, row.NomParent, row.PrenomEnfant, row.NomEnfant, row.DateNaissance, row.Moyen)\n",
    "\n",
    "    \n",
    "    def get_pdf(self, output_name):\n",
    "        if '.csv' in self.students_file:\n",
    "            # Assume that the user uploaded a CSV file\n",
    "            df = pd.read_csv(self.students_file)#      io.StringIO(decoded.decode('utf-8'))\n",
    "            if len(df.columns) == 1: # Very bad because we load it twice !\n",
    "                df = pd.read_csv(self.students_file, sep=';')\n",
    "        else:\n",
    "            # Assume that the user uploaded an excel file\n",
    "            df = pd.read_excel(self.students_file) #io.BytesIO(decoded)\n",
    "      \n",
    "        self.pdf = PDF(orientation='P', unit='mm', format='A4')\n",
    "        self.pdf.set_author('Data For Good France')\n",
    "        _ = df.apply(self.generate, axis=1)\n",
    "        _ = self.pdf.output(output_name,'F')"
   ]
  },
  {
   "cell_type": "code",
   "execution_count": null,
   "metadata": {},
   "outputs": [
    {
     "name": "stdout",
     "output_type": "stream",
     "text": [
      "CPU times: user 6.68 ms, sys: 813 µs, total: 7.49 ms\n",
      "Wall time: 6.53 ms\n"
     ]
    }
   ],
   "source": [
    "%%time\n",
    "school={\n",
    "    'school_name':'Ecole Jean Jaurès',\n",
    "    'school_adress':'rue Jean Jaurès, 42 000 Libreville',\n",
    "    'school_sign':'cachet.jpg',\n",
    "    'city':'Libreville'\n",
    "}\n",
    "students_file = 'data.csv'\n",
    "school_pdf = PDFGenerator(students_file, school)\n",
    "school_pdf.get_pdf('test.pdf')"
   ]
  },
  {
   "cell_type": "code",
   "execution_count": null,
   "metadata": {},
   "outputs": [
    {
     "name": "stdout",
     "output_type": "stream",
     "text": [
      "CPU times: user 108 ms, sys: 0 ns, total: 108 ms\n",
      "Wall time: 109 ms\n"
     ]
    }
   ],
   "source": [
    "%%time\n",
    "students_file = './assets/Fichier des élèves.csv'\n",
    "school_pdf = PDFGenerator(students_file, school)\n",
    "school_pdf.get_pdf('test-csv.pdf')"
   ]
  },
  {
   "cell_type": "code",
   "execution_count": null,
   "metadata": {},
   "outputs": [
    {
     "name": "stdout",
     "output_type": "stream",
     "text": [
      "CPU times: user 124 ms, sys: 0 ns, total: 124 ms\n",
      "Wall time: 123 ms\n"
     ]
    }
   ],
   "source": [
    "%%time\n",
    "students_file = './assets/Fichier des élèves.xls'\n",
    "school_pdf = PDFGenerator(students_file, school)\n",
    "school_pdf.get_pdf('test-xls.pdf')"
   ]
  },
  {
   "cell_type": "code",
   "execution_count": null,
   "metadata": {},
   "outputs": [
    {
     "name": "stdout",
     "output_type": "stream",
     "text": [
      "CPU times: user 146 ms, sys: 0 ns, total: 146 ms\n",
      "Wall time: 146 ms\n"
     ]
    }
   ],
   "source": [
    "%%time\n",
    "students_file = './assets/Fichier des élèves.xlsx'\n",
    "school_pdf = PDFGenerator(students_file, school)\n",
    "school_pdf.get_pdf('test-xlsx.pdf')"
   ]
  },
  {
   "cell_type": "code",
   "execution_count": null,
   "metadata": {},
   "outputs": [],
   "source": []
  }
 ],
 "metadata": {
  "kernelspec": {
   "display_name": "Python 3",
   "language": "python",
   "name": "python3"
  }
 },
 "nbformat": 4,
 "nbformat_minor": 4
}
