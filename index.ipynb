{
 "cells": [
  {
   "cell_type": "code",
   "execution_count": null,
   "metadata": {},
   "outputs": [],
   "source": [
    "#hide\n",
    "#from your_lib.core import *"
   ]
  },
  {
   "cell_type": "markdown",
   "metadata": {},
   "source": [
    "# Générateur du JUSTIFICATIF DE DÉPLACEMENT SCOLAIRE\n",
    "\n",
    "> Ce projet vise à générer le JUSTIFICATIF DE DÉPLACEMENT SCOLAIRE par les établissements scolaires à partir de la liste des élèves."
   ]
  },
  {
   "cell_type": "markdown",
   "metadata": {},
   "source": [
    "Afin de faciliter la gestion des justificatifs, ce projet propose un outil à destination des établissements scolaires et/ou des mairies pour générer en une fois toutes les attestations.\n",
    "\n",
    "Il est disponible en version web : https://justificatif.courty.fr/ (le plus facile à utiliser, les fichiers transitent sur Internet de façon sécurisé et ils ne sont pas stockées)\n",
    "\n",
    "Ou en version Windows (les fichiers ne quittent pas l'établissement) :\n",
    "![](./assets/gui.png)\n",
    "\n",
    "Il faut fournir à l'outil la liste des élèves :\n",
    "\n",
    "![](./assets/tableau.jpg)\n",
    "\n",
    "Ainsi que le cachet de l'établissement :\n",
    "\n",
    "![](./cachet.jpg)\n",
    "\n",
    "Ensuite, le logiciel génére un PDF contenant toutes les attestations, qu'il est donc facile d'imprimer en une fois :\n",
    "\n",
    "![](./assets/pdf_view.png)\n",
    "\n",
    "Exemple en PDF : https://raw.githubusercontent.com/dataforgoodfr/covid_certificate_generator/master/test.pdf\n"
   ]
  },
  {
   "cell_type": "markdown",
   "metadata": {},
   "source": [
    "## Installation\n",
    "\n",
    "### Windows\n",
    "Télécharger l'application sur la page https://github.com/dataforgoodfr/covid_certificate_generator/releases\n"
   ]
  },
  {
   "cell_type": "code",
   "execution_count": null,
   "metadata": {},
   "outputs": [],
   "source": [
    "#hide\n",
    "# `git clone git@github.com:dataforgoodfr/covid_certificate_generator.git`\n",
    "\n",
    "# Prochainement :\n",
    "\n",
    "# `pip install  covid_certificate_generator`"
   ]
  },
  {
   "cell_type": "markdown",
   "metadata": {},
   "source": [
    "## Utilisation"
   ]
  },
  {
   "cell_type": "markdown",
   "metadata": {},
   "source": [
    "Exécutez l'application : Une fenêtre noire va apparaître, c'est normal, l'application apparaîtra une dizaine de secondes plus tard :\n",
    "\n",
    "![](./assets/gui.png)\n",
    "\n",
    "Chargez le cachet de l'établissement scanné et le fichier des élèves dans un des formats suivants :\n",
    "- CSV avec \";\"\n",
    "- CSV avec \",\"\n",
    "- Excel 97-2003 (xls)\n",
    "- Excel 2007-365 (xlsx)\n",
    "\n",
    "Les colonnes doivent être nommées de cette façon :\n",
    "- NomParent \tPrenomParent \tNomEnfant \tPrenomEnfant \tDateNaissance \tMoyen\n",
    "![](./assets/excel.png)"
   ]
  },
  {
   "cell_type": "code",
   "execution_count": null,
   "metadata": {},
   "outputs": [],
   "source": []
  }
 ],
 "metadata": {
  "kernelspec": {
   "display_name": "Python 3",
   "language": "python",
   "name": "python3"
  },
  "language_info": {
   "codemirror_mode": {
    "name": "ipython",
    "version": 3
   },
   "file_extension": ".py",
   "mimetype": "text/x-python",
   "name": "python",
   "nbconvert_exporter": "python",
   "pygments_lexer": "ipython3",
   "version": "3.8.6"
  }
 },
 "nbformat": 4,
 "nbformat_minor": 4
}
