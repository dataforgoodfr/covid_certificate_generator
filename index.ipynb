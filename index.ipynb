{
 "cells": [
  {
   "cell_type": "code",
   "execution_count": 3,
   "metadata": {},
   "outputs": [],
   "source": [
    "#hide\n",
    "#from your_lib.core import *"
   ]
  },
  {
   "cell_type": "markdown",
   "metadata": {},
   "source": [
    "# Générateur de JUSTIFICATIF DE DÉPLACEMENT SCOLAIRE\n",
    "\n",
    "> Ce projet vise à générer les JUSTIFICATIF DE DÉPLACEMENT SCOLAIRE par les établissements scolaires à partir de la liste des élèves."
   ]
  },
  {
   "cell_type": "markdown",
   "metadata": {},
   "source": [
    "Afin de faciliter la gestion des justificatifs ce projet propose un outil à destination des établissements scolaires et/ou des mairies pour générer en une fois toutes les attestations.\n",
    "\n",
    "Il faut fournir à l'outil la liste des élèves :\n",
    "\n",
    "![](./assets/tableau.jpg)\n",
    "\n",
    "Ainsi que le cachet de l'établissement :\n",
    "\n",
    "![](./cachet.jpg)\n",
    "\n",
    "Ensuite il génére un PDF contenant toutes les attestations, qu'il est donc facile d'imprimer en une fois :\n",
    "\n",
    "![](./assets/pdf_view.png)\n",
    "\n",
    "Exemple en PDF : https://raw.githubusercontent.com/dataforgoodfr/covid_certificate_generator/master/test.pdf\n",
    "\n",
    "Un site web pour faciliter son usage sera développé prochainement."
   ]
  },
  {
   "cell_type": "markdown",
   "metadata": {},
   "source": [
    "## Installation"
   ]
  },
  {
   "cell_type": "markdown",
   "metadata": {},
   "source": [
    "`git clone git@github.com:dataforgoodfr/covid_certificate_generator.git`\n",
    "\n",
    "Prochainement :\n",
    "\n",
    "`pip install  covid_certificate_generator`"
   ]
  },
  {
   "cell_type": "markdown",
   "metadata": {},
   "source": [
    "## Utilisation"
   ]
  },
  {
   "cell_type": "markdown",
   "metadata": {},
   "source": [
    "- Scanner le cachet de l'établissement scolaire et appelez-le cachet.jpg\n",
    "- Exportez la liste des élèves et appelez-là data.csv\n",
    "- Exécutez le programme :\n",
    "`python3 covid_certificate_generator/core.py`"
   ]
  }
 ],
 "metadata": {
  "kernelspec": {
   "display_name": "Python 3",
   "language": "python",
   "name": "python3"
  },
  "language_info": {
   "codemirror_mode": {
    "name": "ipython",
    "version": 3
   },
   "file_extension": ".py",
   "mimetype": "text/x-python",
   "name": "python",
   "nbconvert_exporter": "python",
   "pygments_lexer": "ipython3",
   "version": "3.8.6"
  }
 },
 "nbformat": 4,
 "nbformat_minor": 4
}
